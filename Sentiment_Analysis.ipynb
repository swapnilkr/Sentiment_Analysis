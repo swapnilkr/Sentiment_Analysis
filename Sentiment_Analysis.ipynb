{
  "nbformat": 4,
  "nbformat_minor": 0,
  "metadata": {
    "colab": {
      "name": "Sentiment_Analysis.ipynb",
      "provenance": [],
      "collapsed_sections": [],
      "authorship_tag": "ABX9TyMHnGaL3ys3F951pix5/0zE",
      "include_colab_link": true
    },
    "kernelspec": {
      "display_name": "Python 3",
      "name": "python3"
    }
  },
  "cells": [
    {
      "cell_type": "markdown",
      "metadata": {
        "id": "view-in-github",
        "colab_type": "text"
      },
      "source": [
        "<a href=\"https://colab.research.google.com/github/swapnilkr/Sentiment_Analysis/blob/main/Sentiment_Analysis.ipynb\" target=\"_parent\"><img src=\"https://colab.research.google.com/assets/colab-badge.svg\" alt=\"Open In Colab\"/></a>"
      ]
    },
    {
      "cell_type": "markdown",
      "metadata": {
        "id": "tk3O90hd7iDO"
      },
      "source": [
        "**Automate Detection of different sentiments from textual comments and feedback**"
      ]
    },
    {
      "cell_type": "markdown",
      "metadata": {
        "id": "4ozDFFAQ8X0U"
      },
      "source": [
        "*Importing Libraries* \r\n",
        "\r\n"
      ]
    },
    {
      "cell_type": "code",
      "metadata": {
        "colab": {
          "base_uri": "https://localhost:8080/"
        },
        "id": "FdnnXRbd7OcK",
        "outputId": "a76c9665-6037-4943-ea2a-51589c2331e7"
      },
      "source": [
        "!pip3 install emoji\r\n",
        "import numpy as np\r\n",
        "import pandas as pd\r\n",
        "pd.set_option('display.max_colwidth',-1)\r\n",
        "from time import time\r\n",
        "import re\r\n",
        "import string\r\n",
        "import os\r\n",
        "import emoji\r\n",
        "from pprint import pprint\r\n",
        "import collections\r\n",
        "\r\n",
        "import matplotlib.pyplot as plt\r\n",
        "import seaborn as sns\r\n",
        "sns.set(style=\"darkgrid\")\r\n",
        "sns.set(font_scale=1.3)\r\n",
        "\r\n",
        "from sklearn.base import BaseEstimator, TransformerMixin\r\n",
        "from sklearn.feature_extraction.text import CountVectorizer\r\n",
        "from sklearn.feature_extraction.text import TfidfVectorizer\r\n",
        "from sklearn.model_selection import GridSearchCV\r\n",
        "from sklearn.model_selection import train_test_split\r\n",
        "from sklearn.pipeline import Pipeline, FeatureUnion\r\n",
        "from sklearn.metrics import classification_report\r\n",
        "\r\n",
        "from sklearn.naive_bayes import MultinomialNB\r\n",
        "from sklearn.linear_model import LogisticRegression\r\n",
        "from sklearn.externals import joblib\r\n",
        "\r\n",
        "import gensim\r\n",
        "\r\n",
        "from nltk.corpus import stopwords\r\n",
        "from nltk.stem import PorterStemmer\r\n",
        "from nltk.tokenize import word_tokenize\r\n",
        "\r\n",
        "import warnings\r\n",
        "\r\n",
        "warnings.filterwarnings('ignore')\r\n",
        "np.random.seed(37)"
      ],
      "execution_count": null,
      "outputs": [
        {
          "output_type": "stream",
          "text": [
            "Requirement already satisfied: emoji in /usr/local/lib/python3.6/dist-packages (0.6.0)\n"
          ],
          "name": "stdout"
        }
      ]
    },
    {
      "cell_type": "markdown",
      "metadata": {
        "id": "RsZ97kU3_2Iq"
      },
      "source": [
        "*Importing Data set using google drive and also locally *"
      ]
    },
    {
      "cell_type": "markdown",
      "metadata": {
        "id": "gr4-91wCBwSD"
      },
      "source": [
        "Authorizing"
      ]
    },
    {
      "cell_type": "code",
      "metadata": {
        "colab": {
          "base_uri": "https://localhost:8080/"
        },
        "id": "BXvwi8GbAJyk",
        "outputId": "dcb636a5-70c7-4807-a55e-a9593b9caff9"
      },
      "source": [
        "import io\r\n",
        "from google.colab import drive\r\n",
        "drive.mount('/content/gdrive')"
      ],
      "execution_count": null,
      "outputs": [
        {
          "output_type": "stream",
          "text": [
            "Mounted at /content/gdrive\n"
          ],
          "name": "stdout"
        }
      ]
    },
    {
      "cell_type": "code",
      "metadata": {
        "colab": {
          "base_uri": "https://localhost:8080/"
        },
        "id": "hTezKnHEB865",
        "outputId": "aa02bebd-0ca2-490c-dcbc-93a471d3ca52"
      },
      "source": [
        "!ls \"/content/gdrive/My Drive/Sentiment Analysis/Tweets.csv\""
      ],
      "execution_count": null,
      "outputs": [
        {
          "output_type": "stream",
          "text": [
            "'/content/gdrive/My Drive/Sentiment Analysis/Tweets.csv'\n"
          ],
          "name": "stdout"
        }
      ]
    },
    {
      "cell_type": "code",
      "metadata": {
        "colab": {
          "resources": {
            "http://localhost:8080/nbextensions/google.colab/files.js": {
              "data": "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",
              "ok": true,
              "headers": [
                [
                  "content-type",
                  "application/javascript"
                ]
              ],
              "status": 200,
              "status_text": ""
            }
          },
          "base_uri": "https://localhost:8080/",
          "height": 73
        },
        "id": "YFYcsC5fjiZE",
        "outputId": "4a7476a5-1f6e-4de8-cc22-27adc7ec0a55"
      },
      "source": [
        "import io\r\n",
        "from google.colab import files\r\n",
        "\r\n",
        "train_tsv = files.upload()"
      ],
      "execution_count": null,
      "outputs": [
        {
          "output_type": "display_data",
          "data": {
            "text/html": [
              "\n",
              "     <input type=\"file\" id=\"files-ddd6b20a-89e3-4b5c-8911-d878d31d6764\" name=\"files[]\" multiple disabled\n",
              "        style=\"border:none\" />\n",
              "     <output id=\"result-ddd6b20a-89e3-4b5c-8911-d878d31d6764\">\n",
              "      Upload widget is only available when the cell has been executed in the\n",
              "      current browser session. Please rerun this cell to enable.\n",
              "      </output>\n",
              "      <script src=\"/nbextensions/google.colab/files.js\"></script> "
            ],
            "text/plain": [
              "<IPython.core.display.HTML object>"
            ]
          },
          "metadata": {
            "tags": []
          }
        },
        {
          "output_type": "stream",
          "text": [
            "Saving Tweets.csv to Tweets (1).csv\n"
          ],
          "name": "stdout"
        }
      ]
    },
    {
      "cell_type": "code",
      "metadata": {
        "id": "eclz6RgOtLJZ"
      },
      "source": [
        "# train_tsv=pd.read_csv('/content/gdrive/My Drive/Sentiment Analysis/Tweets.csv')\r\n",
        "df = pd.read_csv(io.BytesIO(train_tsv['Tweets.csv']))\r\n",
        "df = df.reindex(np.random.permutation(df.index))\r\n",
        "df = df[['text', 'airline_sentiment']]\r\n",
        "\r\n"
      ],
      "execution_count": null,
      "outputs": []
    },
    {
      "cell_type": "markdown",
      "metadata": {
        "id": "lCh_KvMr0Kpq"
      },
      "source": [
        "**Exploratory Data Analysis**"
      ]
    },
    {
      "cell_type": "markdown",
      "metadata": {
        "id": "J0JW6pu40i5x"
      },
      "source": [
        "*Target variable* - three class labels we will predict: negative, neutral or positive"
      ]
    },
    {
      "cell_type": "markdown",
      "metadata": {
        "id": "yzXVYjEn0uKA"
      },
      "source": [
        "With the factorplot of the seaborn package, we can visualize the distribution of the target variable"
      ]
    },
    {
      "cell_type": "code",
      "metadata": {
        "colab": {
          "base_uri": "https://localhost:8080/",
          "height": 448
        },
        "id": "GfBzBTsFtLYe",
        "outputId": "2972457a-fe2c-4ae8-e84f-3f87b7a763ad"
      },
      "source": [
        "sns.factorplot(x=\"airline_sentiment\", data=df, kind=\"count\", size=6 , aspect=1.5, palette=\"Accent_r\")\r\n",
        "plt.show()"
      ],
      "execution_count": null,
      "outputs": [
        {
          "output_type": "display_data",
          "data": {
            "image/png": "[encoded data removed]",
            "text/plain": [
              "<Figure size 648x432 with 1 Axes>"
            ]
          },
          "metadata": {
            "tags": []
          }
        }
      ]
    },
    {
      "cell_type": "markdown",
      "metadata": {
        "id": "cydbATri0yNx"
      },
      "source": [
        "*Input variable* - Exploring data set"
      ]
    },
    {
      "cell_type": "markdown",
      "metadata": {
        "id": "IqcNcoqL1F9A"
      },
      "source": [
        "To analyze the text variable we create a class TextCounts. In this class we compute some basic statistics on the text variable."
      ]
    },
    {
      "cell_type": "code",
      "metadata": {
        "id": "Lm1p_Oc51AWa"
      },
      "source": [
        "class TextCounts(BaseEstimator, TransformerMixin):\r\n",
        "\r\n",
        "  def count_regex(self, pattern, tweet):\r\n",
        "      return len(re.findall(pattern, tweet))\r\n",
        "  \r\n",
        "  def fit(self, X, y=None, **fit_params):\r\n",
        "    # fit method used as specific operations need to be done on the train data, but not on the test data\r\n",
        "      return self\r\n",
        "    \r\n",
        "  def transform(self, X, **transform_params):\r\n",
        "    # to count words in text\r\n",
        "    count_words = X.apply(lambda x: self.count_regex(r'\\w+', x))\r\n",
        "\r\n",
        "    # to count no off mentions\r\n",
        "    count_mentions = X.apply(lambda x: self.count_regex(r'@\\w+', x))\r\n",
        "\r\n",
        "    # count no of hashtags\r\n",
        "    count_hashtags = X.apply(lambda x: self.count_regex(r'#\\w+', x))\r\n",
        "\r\n",
        "    # count negative expression started with capital words\r\n",
        "    count_capital_words = X.apply(lambda x: self.count_regex(r'\\b[A-Z]{2,}\\b', x))\r\n",
        "\r\n",
        "    # count excl marks\r\n",
        "    count_excl_quest_marks = X.apply(lambda x: self.count_regex(r'!|\\?', x))\r\n",
        "\r\n",
        "    # count no of links preceded\r\n",
        "    count_urls = X.apply(lambda x: self.count_regex(r'http.?://[^\\s]+[\\s]?', x))\r\n",
        "\r\n",
        "    # We will replace the emoji symbols with a description, which makes using a regex for counting easier\r\n",
        "    count_emojis = X.apply(lambda x: emoji.demojize(x)).apply(lambda x: self.count_regex(r':[a-z_&]+:', x))\r\n",
        "\r\n",
        "    df = pd.DataFrame({'count_words': count_words\r\n",
        "                           , 'count_mentions': count_mentions\r\n",
        "                           , 'count_hashtags': count_hashtags\r\n",
        "                           , 'count_capital_words': count_capital_words\r\n",
        "                           , 'count_excl_quest_marks': count_excl_quest_marks\r\n",
        "                           , 'count_urls': count_urls\r\n",
        "                           , 'count_emojis': count_emojis\r\n",
        "                          })\r\n",
        "        \r\n",
        "    return df\r\n",
        "\r\n"
      ],
      "execution_count": null,
      "outputs": []
    },
    {
      "cell_type": "code",
      "metadata": {
        "id": "WCGWedHV09P3"
      },
      "source": [
        "tc = TextCounts()\r\n",
        "df_eda = tc.fit_transform(df.text)\r\n",
        "df_eda['airline_sentiment'] = df.airline_sentiment"
      ],
      "execution_count": null,
      "outputs": []
    },
    {
      "cell_type": "markdown",
      "metadata": {
        "id": "1PblzC4T4DQp"
      },
      "source": [
        "function that provides descriptive statistics and a plot per target class"
      ]
    },
    {
      "cell_type": "code",
      "metadata": {
        "id": "duvubDLO4CR8"
      },
      "source": [
        "def show_dist(df, col):\r\n",
        "    print('Descriptive stats for {}'.format(col))\r\n",
        "    print('-'*(len(col)+22))\r\n",
        "    print(df.groupby('airline_sentiment')[col].describe())\r\n",
        "    bins = np.arange(df[col].min(), df[col].max() + 1)\r\n",
        "    g = sns.FacetGrid(df, col='airline_sentiment', size=5, hue='airline_sentiment', palette=\"PuBuGn_d\")\r\n",
        "    g = g.map(sns.distplot, col, kde=False, norm_hist=True, bins=bins)\r\n",
        "    plt.show()\r\n",
        "\r\n"
      ],
      "execution_count": null,
      "outputs": []
    },
    {
      "cell_type": "code",
      "metadata": {
        "colab": {
          "base_uri": "https://localhost:8080/",
          "height": 342
        },
        "id": "HXLmJbVr6MU1",
        "outputId": "9d490da9-0ba7-498d-f642-9cc2ea98e669"
      },
      "source": [
        "show_dist(df_eda, 'count_words')"
      ],
      "execution_count": null,
      "outputs": [
        {
          "output_type": "stream",
          "text": [
            "Descriptive stats for count_words\n",
            "---------------------------------\n",
            "                    count       mean       std  min   25%   50%   75%   max\n",
            "airline_sentiment                                                          \n",
            "negative           9178.0  20.387557  6.100020  2.0  17.0  22.0  25.0  35.0\n",
            "neutral            3099.0  15.290094  7.150738  2.0  10.0  15.0  21.0  34.0\n",
            "positive           2363.0  14.478206  7.266129  2.0  8.0   14.0  21.0  33.0\n"
          ],
          "name": "stdout"
        },
        {
          "output_type": "display_data",
          "data": {
            "image/png": "[encoded data removed]",
            "text/plain": [
              "<Figure size 1080x360 with 3 Axes>"
            ]
          },
          "metadata": {
            "tags": []
          }
        }
      ]
    },
    {
      "cell_type": "code",
      "metadata": {
        "colab": {
          "base_uri": "https://localhost:8080/",
          "height": 342
        },
        "id": "uwoxDag86OnN",
        "outputId": "2d1fd10a-f005-429f-9724-eb5cc5bee05e"
      },
      "source": [
        "show_dist(df_eda, 'count_mentions')"
      ],
      "execution_count": null,
      "outputs": [
        {
          "output_type": "stream",
          "text": [
            "Descriptive stats for count_mentions\n",
            "------------------------------------\n",
            "                    count      mean       std  min  25%  50%  75%  max\n",
            "airline_sentiment                                                     \n",
            "negative           9178.0  1.111244  0.365420  1.0  1.0  1.0  1.0  6.0\n",
            "neutral            3099.0  1.167473  0.480102  1.0  1.0  1.0  1.0  5.0\n",
            "positive           2363.0  1.138383  0.432462  1.0  1.0  1.0  1.0  6.0\n"
          ],
          "name": "stdout"
        },
        {
          "output_type": "display_data",
          "data": {
            "image/png": "[encoded data removed]",
            "text/plain": [
              "<Figure size 1080x360 with 3 Axes>"
            ]
          },
          "metadata": {
            "tags": []
          }
        }
      ]
    },
    {
      "cell_type": "code",
      "metadata": {
        "colab": {
          "base_uri": "https://localhost:8080/",
          "height": 342
        },
        "id": "0UB0Kt4z6Oyk",
        "outputId": "79100a36-21a8-49a7-c127-bd537441ee76"
      },
      "source": [
        "show_dist(df_eda, 'count_hashtags')"
      ],
      "execution_count": null,
      "outputs": [
        {
          "output_type": "stream",
          "text": [
            "Descriptive stats for count_hashtags\n",
            "------------------------------------\n",
            "                    count      mean       std  min  25%  50%  75%  max\n",
            "airline_sentiment                                                     \n",
            "negative           9178.0  0.233384  0.615099  0.0  0.0  0.0  0.0  6.0\n",
            "neutral            3099.0  0.212004  0.666382  0.0  0.0  0.0  0.0  6.0\n",
            "positive           2363.0  0.297503  0.774776  0.0  0.0  0.0  0.0  8.0\n"
          ],
          "name": "stdout"
        },
        {
          "output_type": "display_data",
          "data": {
            "image/png": "[encoded data removed]",
            "text/plain": [
              "<Figure size 1080x360 with 3 Axes>"
            ]
          },
          "metadata": {
            "tags": []
          }
        }
      ]
    },
    {
      "cell_type": "code",
      "metadata": {
        "colab": {
          "base_uri": "https://localhost:8080/",
          "height": 342
        },
        "id": "DLwu6kU66O2s",
        "outputId": "ce497abc-d49f-438d-8078-f3037f5144dc"
      },
      "source": [
        "show_dist(df_eda, 'count_capital_words')"
      ],
      "execution_count": null,
      "outputs": [
        {
          "output_type": "stream",
          "text": [
            "Descriptive stats for count_capital_words\n",
            "-----------------------------------------\n",
            "                    count      mean       std  min  25%  50%  75%   max\n",
            "airline_sentiment                                                      \n",
            "negative           9178.0  0.429070  1.019710  0.0  0.0  0.0  1.0  22.0\n",
            "neutral            3099.0  0.462085  0.939468  0.0  0.0  0.0  1.0  11.0\n",
            "positive           2363.0  0.461278  1.234078  0.0  0.0  0.0  1.0  20.0\n"
          ],
          "name": "stdout"
        },
        {
          "output_type": "display_data",
          "data": {
            "image/png": "[encoded data removed]",
            "text/plain": [
              "<Figure size 1080x360 with 3 Axes>"
            ]
          },
          "metadata": {
            "tags": []
          }
        }
      ]
    },
    {
      "cell_type": "code",
      "metadata": {
        "colab": {
          "base_uri": "https://localhost:8080/",
          "height": 342
        },
        "id": "UsKIvzdd6O6_",
        "outputId": "f9460971-34e7-40fb-ddc5-d7ccec179668"
      },
      "source": [
        "show_dist(df_eda, 'count_excl_quest_marks')"
      ],
      "execution_count": null,
      "outputs": [
        {
          "output_type": "stream",
          "text": [
            "Descriptive stats for count_excl_quest_marks\n",
            "--------------------------------------------\n",
            "                    count      mean       std  min  25%  50%  75%   max\n",
            "airline_sentiment                                                      \n",
            "negative           9178.0  0.634125  1.143958  0.0  0.0  0.0  1.0  27.0\n",
            "neutral            3099.0  0.665053  0.928761  0.0  0.0  0.0  1.0  12.0\n",
            "positive           2363.0  0.892510  1.199191  0.0  0.0  1.0  1.0  13.0\n"
          ],
          "name": "stdout"
        },
        {
          "output_type": "display_data",
          "data": {
            "image/png": "[encoded data removed]",
            "text/plain": [
              "<Figure size 1080x360 with 3 Axes>"
            ]
          },
          "metadata": {
            "tags": []
          }
        }
      ]
    },
    {
      "cell_type": "code",
      "metadata": {
        "colab": {
          "base_uri": "https://localhost:8080/",
          "height": 342
        },
        "id": "gihAiexM6gJT",
        "outputId": "954e02d2-2c98-4d96-9295-e8dd625fb375"
      },
      "source": [
        "show_dist(df_eda, 'count_urls')"
      ],
      "execution_count": null,
      "outputs": [
        {
          "output_type": "stream",
          "text": [
            "Descriptive stats for count_urls\n",
            "--------------------------------\n",
            "                    count      mean       std  min  25%  50%  75%  max\n",
            "airline_sentiment                                                     \n",
            "negative           9178.0  0.049248  0.218403  0.0  0.0  0.0  0.0  2.0\n",
            "neutral            3099.0  0.169732  0.401225  0.0  0.0  0.0  0.0  3.0\n",
            "positive           2363.0  0.098603  0.303818  0.0  0.0  0.0  0.0  2.0\n"
          ],
          "name": "stdout"
        },
        {
          "output_type": "display_data",
          "data": {
            "image/png": "[encoded data removed]",
            "text/plain": [
              "<Figure size 1080x360 with 3 Axes>"
            ]
          },
          "metadata": {
            "tags": []
          }
        }
      ]
    },
    {
      "cell_type": "code",
      "metadata": {
        "colab": {
          "base_uri": "https://localhost:8080/",
          "height": 342
        },
        "id": "YAMfJo3a6gNS",
        "outputId": "97f72b2a-a91f-4e21-c885-c73f989793ff"
      },
      "source": [
        "show_dist(df_eda, 'count_emojis')"
      ],
      "execution_count": null,
      "outputs": [
        {
          "output_type": "stream",
          "text": [
            "Descriptive stats for count_emojis\n",
            "----------------------------------\n",
            "                    count      mean       std  min  25%  50%  75%   max\n",
            "airline_sentiment                                                      \n",
            "negative           9178.0  0.028547  0.258772  0.0  0.0  0.0  0.0  8.0 \n",
            "neutral            3099.0  0.076154  0.494654  0.0  0.0  0.0  0.0  13.0\n",
            "positive           2363.0  0.181549  1.257512  0.0  0.0  0.0  0.0  40.0\n"
          ],
          "name": "stdout"
        },
        {
          "output_type": "display_data",
          "data": {
            "image/png": "[encoded data removed]",
            "text/plain": [
              "<Figure size 1080x360 with 3 Axes>"
            ]
          },
          "metadata": {
            "tags": []
          }
        }
      ]
    },
    {
      "cell_type": "markdown",
      "metadata": {
        "id": "qMURnkY76t-N"
      },
      "source": [
        "**CONCLUSIONS:**\r\n",
        "\r\n",
        "\r\n",
        "1. **The number of words** used in the tweets is rater low. Maximum number of words is 36 and there are even tweets with only 2 words. So we'll have to be careful during data cleaning not to remove too many words. On the other hand, the text processing will be faster. Negative tweets contain more words than neutral or positive tweets.\r\n",
        "\r\n",
        "2. All tweets have at least one **mention**. Probably this is the result of extracting the tweets based on mentions in the Twitter data. There seems to be no difference in number of mentions with regard to the sentiment.\r\n",
        "\r\n",
        "3. Most of the tweets do not contain **hash tags**. So probably this variable will not be retained during model training. Again, no difference in number of hash tags with regard to the sentiment.\r\n",
        "\r\n",
        "4. Most of the tweets do not contain **capitalized words** and we do not see a difference in distribution between the sentiments.\r\n",
        "\r\n",
        "5. The positive tweets seem to be using a bit more **exclamation or question marks**.\r\n",
        "\r\n",
        "6. Most tweets do not contain a **URL**.\r\n",
        "\r\n",
        "7. Most tweets do not use **emojis**.\r\n",
        "\r\n",
        "\r\n",
        "\r\n"
      ]
    },
    {
      "cell_type": "markdown",
      "metadata": {
        "id": "ABfXUWAV7rXD"
      },
      "source": [
        "**Text Cleaning**"
      ]
    },
    {
      "cell_type": "markdown",
      "metadata": {
        "id": "5sktkerOqbYc"
      },
      "source": [
        "We create a class CleanText to-\r\n",
        "\r\n",
        "* remove the **mentions**, as we want to make the model generalisable to tweets of other airline companies too.\r\n",
        "\r\n",
        "* remove the **hash tag sign** (#) but not the actual tag as this may contain information\r\n",
        "\r\n",
        "* set all words to **lowercase**\r\n",
        "\r\n",
        "* remove all **punctuations**, including the question and exclamation marks\r\n",
        "\r\n",
        "* remove the **urls** as they do not contain useful information and we did not notice a distinction in the number of urls used between the sentiment classes\r\n",
        "\r\n",
        "* make sure the converted **emojis** are kept as one word.\r\n",
        "\r\n",
        "* remove **digits**\r\n",
        "\r\n",
        "* remove **stopwords**\r\n",
        "\r\n",
        "* apply the **PorterStemmer** to keep the stem of the words\r\n",
        "\r\n",
        "\r\n"
      ]
    },
    {
      "cell_type": "code",
      "metadata": {
        "id": "VbJw0h6ntLcn"
      },
      "source": [
        "class CleanText(BaseEstimator, TransformerMixin):\r\n",
        "   \r\n",
        "    def remove_mentions(self, input_text):\r\n",
        "        return re.sub(r'@\\w+', '', input_text)\r\n",
        "    \r\n",
        "    def remove_urls(self, input_text):\r\n",
        "        return re.sub(r'http.?://[^\\s]+[\\s]?', '', input_text)\r\n",
        "    \r\n",
        "    def emoji_oneword(self, input_text):\r\n",
        "        # By compressing the underscore, the emoji is kept as one word\r\n",
        "        return input_text.replace('_','')\r\n",
        "    \r\n",
        "    def remove_punctuation(self, input_text):\r\n",
        "        # Make translation table\r\n",
        "        punct = string.punctuation\r\n",
        "        trantab = str.maketrans(punct, len(punct)*' ')  # Every punctuation symbol will be replaced by a space\r\n",
        "        return input_text.translate(trantab)\r\n",
        "\r\n",
        "    def remove_digits(self, input_text):\r\n",
        "        return re.sub('\\d+', '', input_text)\r\n",
        "    \r\n",
        "    def to_lower(self, input_text):\r\n",
        "        return input_text.lower()\r\n",
        "    \r\n",
        "    def remove_stopwords(self, input_text):\r\n",
        "        stopwords_list = stopwords.words('english')\r\n",
        "        # Some words which might indicate a certain sentiment are kept via a whitelist\r\n",
        "        whitelist = [\"n't\", \"not\", \"no\"]\r\n",
        "        words = input_text.split() \r\n",
        "        clean_words = [word for word in words if (word not in stopwords_list or word in whitelist) and len(word) > 1] \r\n",
        "        return \" \".join(clean_words) \r\n",
        "    \r\n",
        "    def stemming(self, input_text):\r\n",
        "        porter = PorterStemmer()\r\n",
        "        words = input_text.split() \r\n",
        "        stemmed_words = [porter.stem(word) for word in words]\r\n",
        "        return \" \".join(stemmed_words)\r\n",
        "\r\n",
        "    def fit(self, X, y=None, **fit_params):\r\n",
        "        return self\r\n",
        "    \r\n",
        "    def transform(self, X, **transform_params):\r\n",
        "        clean_X = X.apply(self.remove_mentions).apply(self.remove_urls).apply(self.emoji_oneword).apply(self.remove_punctuation).apply(self.remove_digits).apply(self.to_lower).apply(self.remove_stopwords).apply(self.stemming)\r\n",
        "        return clean_X\r\n"
      ],
      "execution_count": null,
      "outputs": []
    },
    {
      "cell_type": "markdown",
      "metadata": {
        "id": "q3C21TLA9jFB"
      },
      "source": [
        "To show how the cleaned text variable will look like, here's a sample."
      ]
    },
    {
      "cell_type": "code",
      "metadata": {
        "colab": {
          "base_uri": "https://localhost:8080/"
        },
        "id": "lcxJAmARtLg1",
        "outputId": "9c1c620c-c369-451e-e863-874fd8e25137"
      },
      "source": [
        "import nltk\r\n",
        "nltk.download('punkt')\r\n",
        "nltk.download('stopwords')\r\n",
        "\r\n",
        "ct = CleanText()\r\n",
        "sr_clean = ct.fit_transform(df.text)\r\n",
        "sr_clean.sample(5)"
      ],
      "execution_count": null,
      "outputs": [
        {
          "output_type": "stream",
          "text": [
            "[nltk_data] Downloading package punkt to /root/nltk_data...\n",
            "[nltk_data]   Package punkt is already up-to-date!\n",
            "[nltk_data] Downloading package stopwords to /root/nltk_data...\n",
            "[nltk_data]   Package stopwords is already up-to-date!\n"
          ],
          "name": "stdout"
        },
        {
          "output_type": "execute_result",
          "data": {
            "text/plain": [
              "12222    glad rt bet bird wish flown south winter                         \n",
              "3936     point upc code check baggag tell luggag vacat day tri swimsuit   \n",
              "367      vx jfk la dirti plane not standard                               \n",
              "12257    tell mean work need estim time arriv pleas need laptop work thank\n",
              "2957     sure busi go els airlin travel name kathryn sotelo               \n",
              "Name: text, dtype: object"
            ]
          },
          "metadata": {
            "tags": []
          },
          "execution_count": 34
        }
      ]
    },
    {
      "cell_type": "markdown",
      "metadata": {
        "id": "lvtXJzAL-SWv"
      },
      "source": [
        "**NOTE:** One side-effect of text cleaning is that some rows do not have any words left in their text. For the CountVectorizer and TfIdfVectorizer this does not really pose a problem. However, for the Word2Vec algorithm this causes an error. "
      ]
    },
    {
      "cell_type": "markdown",
      "metadata": {
        "id": "3vrSGZdH-aJC"
      },
      "source": [
        "Imputing with a placeholder text"
      ]
    },
    {
      "cell_type": "code",
      "metadata": {
        "colab": {
          "base_uri": "https://localhost:8080/"
        },
        "id": "2h-ky3SF89MQ",
        "outputId": "78877e80-f50e-42bc-fdd7-461d28e5595f"
      },
      "source": [
        "empty_clean = sr_clean == ''\r\n",
        "print('{} records have no words left after text cleaning'.format(sr_clean[empty_clean].count()))\r\n",
        "sr_clean.loc[empty_clean] = '[no_text]'"
      ],
      "execution_count": null,
      "outputs": [
        {
          "output_type": "stream",
          "text": [
            "22 records have no words left after text cleaning\n"
          ],
          "name": "stdout"
        }
      ]
    },
    {
      "cell_type": "markdown",
      "metadata": {
        "id": "gS4r8F68-ktA"
      },
      "source": [
        "We have the cleaned text of the tweets, we can have a look at what are the most frequent words. Below we'll show the top 20 words."
      ]
    },
    {
      "cell_type": "code",
      "metadata": {
        "colab": {
          "base_uri": "https://localhost:8080/",
          "height": 534
        },
        "id": "TrHjGLfv89P7",
        "outputId": "ab44fec1-7eb9-4266-8972-c9ff6ca0d0e4"
      },
      "source": [
        "cv = CountVectorizer()\r\n",
        "bow = cv.fit_transform(sr_clean)\r\n",
        "word_freq = dict(zip(cv.get_feature_names(), np.asarray(bow.sum(axis=0)).ravel()))\r\n",
        "word_counter = collections.Counter(word_freq)\r\n",
        "word_counter_df = pd.DataFrame(word_counter.most_common(20), columns = ['word', 'freq'])\r\n",
        "\r\n",
        "fig, ax = plt.subplots(figsize=(12, 10))\r\n",
        "bar_freq_word = sns.barplot(x=\"word\", y=\"freq\", data=word_counter_df, palette=\"PuBuGn_r\", ax=ax)\r\n",
        "plt.show();"
      ],
      "execution_count": null,
      "outputs": [
        {
          "output_type": "display_data",
          "data": {
            "image/png": "[encoded data removed]",
            "text/plain": [
              "<Figure size 864x720 with 1 Axes>"
            ]
          },
          "metadata": {
            "tags": []
          }
        }
      ]
    },
    {
      "cell_type": "markdown",
      "metadata": {
        "id": "JZshYvxo-_MM"
      },
      "source": [
        "**CONCLUSION:** Not surprisingly the most frequent word is flight."
      ]
    },
    {
      "cell_type": "markdown",
      "metadata": {
        "id": "qUUbE2tudBfW"
      },
      "source": [
        "**Creating Test Data**"
      ]
    },
    {
      "cell_type": "markdown",
      "metadata": {
        "id": "QeS-GzUbdT3Z"
      },
      "source": [
        "To evaluate the trained models we'll need a test set. Evaluating on the train data would not be correct because the models are trained to minimize their cost function.\r\n",
        "\r\n",
        "First we combine the TextCounts variables with the CleanText variable.\r\n",
        "\r\n",
        "\r\n",
        "\r\n"
      ]
    },
    {
      "cell_type": "code",
      "metadata": {
        "colab": {
          "base_uri": "https://localhost:8080/"
        },
        "id": "DFX2UkAX89TZ",
        "outputId": "1ae2aed6-060e-4ce5-ec94-a46eb5607159"
      },
      "source": [
        "df_model = df_eda\r\n",
        "df_model['clean_text'] = sr_clean\r\n",
        "df_model.columns.tolist()"
      ],
      "execution_count": null,
      "outputs": [
        {
          "output_type": "execute_result",
          "data": {
            "text/plain": [
              "['count_words',\n",
              " 'count_mentions',\n",
              " 'count_hashtags',\n",
              " 'count_capital_words',\n",
              " 'count_excl_quest_marks',\n",
              " 'count_urls',\n",
              " 'count_emojis',\n",
              " 'airline_sentiment',\n",
              " 'clean_text']"
            ]
          },
          "metadata": {
            "tags": []
          },
          "execution_count": 37
        }
      ]
    },
    {
      "cell_type": "markdown",
      "metadata": {
        "id": "9L5iA8J1dgGP"
      },
      "source": [
        "So df_model now contains several variables. However, our vectorizers (see below) will only need the clean_text variable. The TextCounts variables can be added as such. To specifically select columns, function class ColumnExtractor below is added"
      ]
    },
    {
      "cell_type": "code",
      "metadata": {
        "id": "4cwoJg9L89Wy"
      },
      "source": [
        "class ColumnExtractor(TransformerMixin, BaseEstimator):\r\n",
        "    def __init__(self, cols):\r\n",
        "        self.cols = cols\r\n",
        "\r\n",
        "    def transform(self, X, **transform_params):\r\n",
        "        return X[self.cols]\r\n",
        "\r\n",
        "    def fit(self, X, y=None, **fit_params):\r\n",
        "        return self"
      ],
      "execution_count": null,
      "outputs": []
    },
    {
      "cell_type": "code",
      "metadata": {
        "id": "GRbIeVTItLlE"
      },
      "source": [
        "X_train, X_test, y_train, y_test = train_test_split(df_model.drop('airline_sentiment', axis=1), df_model.airline_sentiment, test_size=0.1, random_state=37)"
      ],
      "execution_count": null,
      "outputs": []
    },
    {
      "cell_type": "markdown",
      "metadata": {
        "id": "DvYDCGxQeBLw"
      },
      "source": [
        "**Cross-validation**"
      ]
    },
    {
      "cell_type": "markdown",
      "metadata": {
        "id": "c21Urv_OeOht"
      },
      "source": [
        "The vectorizers and classifiers all have configurable parameters. In order to chose the best parameters, we need to evaluate on a separate validation set that was not used during the training. However, using only one validation set may not produce reliable validation results. Due to chance you might have a good model performance on the validation set. If you would split the data otherwise, you might end up with other results. To get a more accurate estimation, we perform cross-validation.\r\n",
        "\r\n",
        "With cross-validation the data is split into a train and validation set multiple times. The evaluation metric is then averaged over the different folds. Luckily, GridSearchCV applies cross-validation out-of-the-box.\r\n",
        "\r\n",
        "To find the best parameters for both a vectorizer and classifier, we create a Pipeline. All this is put into a function for ease of use."
      ]
    },
    {
      "cell_type": "markdown",
      "metadata": {
        "id": "rxyLBbfUeb96"
      },
      "source": [
        "**Evaluation metrics**"
      ]
    },
    {
      "cell_type": "markdown",
      "metadata": {
        "id": "C5CF4o3eee-_"
      },
      "source": [
        "By default GridSearchCV uses the default scorer to compute the bestscore. For both the MultiNomialNb and LogisticRegression this default scoring metric is the accuracy.\r\n",
        "\r\n",
        "\r\n",
        "In our function *grid_vect* we additionally generate the *classification_report* on the test data. This provides some interesting metrics per target class, which might be more appropriate here. These metrics are the **precision, recal and F1 score**.\r\n",
        "\r\n",
        "\r\n",
        "\r\n",
        "*   **Precision:** Of all rows we predicted to be a certain class, how many did we correctly predict?\r\n",
        "\r\n",
        "*   **Recall:** Of all rows of a certain class, how many did we correctly predict?\r\n",
        "\r\n",
        "\r\n",
        "\r\n",
        "*   **F1 score:** Harmonic mean of Precision and Recall.\r\n",
        "\r\n",
        "\r\n",
        "\r\n",
        "\r\n"
      ]
    },
    {
      "cell_type": "code",
      "metadata": {
        "id": "lkD2raVu89aC"
      },
      "source": [
        "# Based on http://scikit-learn.org/stable/auto_examples/model_selection/grid_search_text_feature_extraction.html\r\n",
        "def grid_vect(clf, parameters_clf, X_train, X_test, parameters_text=None, vect=None, is_w2v=False):\r\n",
        "    \r\n",
        "    textcountscols = ['count_capital_words','count_emojis','count_excl_quest_marks','count_hashtags'\r\n",
        "                      ,'count_mentions','count_urls','count_words']\r\n",
        "    \r\n",
        "    if is_w2v:\r\n",
        "        w2vcols = []\r\n",
        "        for i in range(SIZE):\r\n",
        "            w2vcols.append(i)\r\n",
        "        features = FeatureUnion([('textcounts', ColumnExtractor(cols=textcountscols))\r\n",
        "                                 , ('w2v', ColumnExtractor(cols=w2vcols))]\r\n",
        "                                , n_jobs=-1)\r\n",
        "    else:\r\n",
        "        features = FeatureUnion([('textcounts', ColumnExtractor(cols=textcountscols))\r\n",
        "                                 , ('pipe', Pipeline([('cleantext', ColumnExtractor(cols='clean_text')), ('vect', vect)]))]\r\n",
        "                                , n_jobs=-1)\r\n",
        "\r\n",
        "    \r\n",
        "    pipeline = Pipeline([\r\n",
        "        ('features', features)\r\n",
        "        , ('clf', clf)\r\n",
        "    ])\r\n",
        "    \r\n",
        "    # Join the parameters dictionaries together\r\n",
        "    parameters = dict()\r\n",
        "    if parameters_text:\r\n",
        "        parameters.update(parameters_text)\r\n",
        "    parameters.update(parameters_clf)\r\n",
        "\r\n",
        "    # Make sure you have scikit-learn version 0.19 or higher to use multiple scoring metrics\r\n",
        "    grid_search = GridSearchCV(pipeline, parameters, n_jobs=-1, verbose=1, cv=5)\r\n",
        "\r\n",
        "    print(\"Performing grid search...\")\r\n",
        "    print(\"pipeline:\", [name for name, _ in pipeline.steps])\r\n",
        "    print(\"parameters:\")\r\n",
        "    pprint(parameters)\r\n",
        "\r\n",
        "    t0 = time()\r\n",
        "    grid_search.fit(X_train, y_train)\r\n",
        "    print(\"done in %0.3fs\" % (time() - t0))\r\n",
        "    print()\r\n",
        "\r\n",
        "    print(\"Best CV score: %0.3f\" % grid_search.best_score_)\r\n",
        "    print(\"Best parameters set:\")\r\n",
        "    best_parameters = grid_search.best_estimator_.get_params()\r\n",
        "    for param_name in sorted(parameters.keys()):\r\n",
        "        print(\"\\t%s: %r\" % (param_name, best_parameters[param_name]))\r\n",
        "        \r\n",
        "    print(\"Test score with best_estimator_: %0.3f\" % grid_search.best_estimator_.score(X_test, y_test))\r\n",
        "    print(\"\\n\")\r\n",
        "    print(\"Classification Report Test Data\")\r\n",
        "    print(classification_report(y_test, grid_search.best_estimator_.predict(X_test)))\r\n",
        "                        \r\n",
        "    return grid_search\r\n"
      ],
      "execution_count": null,
      "outputs": []
    },
    {
      "cell_type": "markdown",
      "metadata": {
        "id": "uauzY-xa26Pk"
      },
      "source": [
        "Parameter grids for GridSearchCV"
      ]
    },
    {
      "cell_type": "code",
      "metadata": {
        "id": "pXlN0umb89dI"
      },
      "source": [
        "# Parameter grid settings for the vectorizers (Count and TFIDF)\r\n",
        "parameters_vect = {\r\n",
        "    'features__pipe__vect__max_df': (0.25, 0.5, 0.75),\r\n",
        "    'features__pipe__vect__ngram_range': ((1, 1), (1, 2)),\r\n",
        "    'features__pipe__vect__min_df': (1,2)\r\n",
        "}\r\n",
        "\r\n",
        "\r\n",
        "# Parameter grid settings for MultinomialNB\r\n",
        "parameters_mnb = {\r\n",
        "    'clf__alpha': (0.25, 0.5, 0.75)\r\n",
        "}\r\n",
        "\r\n",
        "\r\n",
        "# Parameter grid settings for LogisticRegression\r\n",
        "parameters_logreg = {\r\n",
        "    'clf__C': (0.25, 0.5, 1.0),\r\n",
        "    'clf__penalty': ('l1', 'l2')\r\n",
        "}"
      ],
      "execution_count": null,
      "outputs": []
    },
    {
      "cell_type": "markdown",
      "metadata": {
        "id": "lYdDnRgm3H1c"
      },
      "source": [
        "**Classifiers**"
      ]
    },
    {
      "cell_type": "markdown",
      "metadata": {
        "id": "Ev7YhKMl3JIU"
      },
      "source": [
        "Here we will compare the performance of a MultinomailNB and LogisticRegression."
      ]
    },
    {
      "cell_type": "code",
      "metadata": {
        "id": "a12EWeBw3FCB"
      },
      "source": [
        "mnb = MultinomialNB()\r\n",
        "logreg = LogisticRegression()"
      ],
      "execution_count": null,
      "outputs": []
    },
    {
      "cell_type": "markdown",
      "metadata": {
        "id": "_sCZlWyQ3N3-"
      },
      "source": [
        "**CountVectorizer**"
      ]
    },
    {
      "cell_type": "markdown",
      "metadata": {
        "id": "5Iu7ywlW3U7N"
      },
      "source": [
        "To use words in a classifier, we need to convert the words to numbers. This can be done with a **CountVectorizer**. Sklearn's CountVectorizer takes all words in all tweets, assigns an ID and counts the frequency of the word per tweet. This *bag of words* can then be used as input for a classifier. It is what is called a **sparse** data set, meaning that each record will have many zeroes for the words not occurring in the tweet."
      ]
    },
    {
      "cell_type": "code",
      "metadata": {
        "id": "J4gOgPYa3FFp"
      },
      "source": [
        "countvect = CountVectorizer()"
      ],
      "execution_count": null,
      "outputs": []
    },
    {
      "cell_type": "code",
      "metadata": {
        "colab": {
          "base_uri": "https://localhost:8080/"
        },
        "id": "XOW__F5O3FJQ",
        "outputId": "331d4e37-2217-4581-dc22-ab68c71a58b5"
      },
      "source": [
        "# MultinomialNB\r\n",
        "best_mnb_countvect = grid_vect(mnb, parameters_mnb, X_train, X_test, parameters_text=parameters_vect, vect=countvect)\r\n"
      ],
      "execution_count": null,
      "outputs": [
        {
          "output_type": "stream",
          "text": [
            "Performing grid search...\n",
            "pipeline: ['features', 'clf']\n",
            "parameters:\n",
            "{'clf__alpha': (0.25, 0.5, 0.75),\n",
            " 'features__pipe__vect__max_df': (0.25, 0.5, 0.75),\n",
            " 'features__pipe__vect__min_df': (1, 2),\n",
            " 'features__pipe__vect__ngram_range': ((1, 1), (1, 2))}\n",
            "Fitting 5 folds for each of 36 candidates, totalling 180 fits\n"
          ],
          "name": "stdout"
        },
        {
          "output_type": "stream",
          "text": [
            "[Parallel(n_jobs=-1)]: Using backend LokyBackend with 2 concurrent workers.\n",
            "[Parallel(n_jobs=-1)]: Done  46 tasks      | elapsed:   16.1s\n",
            "[Parallel(n_jobs=-1)]: Done 180 out of 180 | elapsed:   58.9s finished\n"
          ],
          "name": "stderr"
        },
        {
          "output_type": "stream",
          "text": [
            "done in 60.114s\n",
            "\n",
            "Best CV score: 0.776\n",
            "Best parameters set:\n",
            "\tclf__alpha: 0.5\n",
            "\tfeatures__pipe__vect__max_df: 0.5\n",
            "\tfeatures__pipe__vect__min_df: 2\n",
            "\tfeatures__pipe__vect__ngram_range: (1, 2)\n",
            "Test score with best_estimator_: 0.784\n",
            "\n",
            "\n",
            "Classification Report Test Data\n",
            "              precision    recall  f1-score   support\n",
            "\n",
            "    negative       0.82      0.91      0.86       911\n",
            "     neutral       0.66      0.48      0.56       320\n",
            "    positive       0.77      0.72      0.74       233\n",
            "\n",
            "    accuracy                           0.78      1464\n",
            "   macro avg       0.75      0.70      0.72      1464\n",
            "weighted avg       0.77      0.78      0.77      1464\n",
            "\n"
          ],
          "name": "stdout"
        }
      ]
    },
    {
      "cell_type": "code",
      "metadata": {
        "id": "kibX9Gsz3FMd",
        "colab": {
          "base_uri": "https://localhost:8080/"
        },
        "outputId": "0ea78654-5b0b-4398-8296-f3cc0eeae907"
      },
      "source": [
        "# LogisticRegression\r\n",
        "best_logreg_countvect = grid_vect(logreg, parameters_logreg, X_train, X_test, parameters_text=parameters_vect, vect=countvect)"
      ],
      "execution_count": null,
      "outputs": [
        {
          "output_type": "stream",
          "text": [
            "Performing grid search...\n",
            "pipeline: ['features', 'clf']\n",
            "parameters:\n",
            "{'clf__C': (0.25, 0.5, 1.0),\n",
            " 'clf__penalty': ('l1', 'l2'),\n",
            " 'features__pipe__vect__max_df': (0.25, 0.5, 0.75),\n",
            " 'features__pipe__vect__min_df': (1, 2),\n",
            " 'features__pipe__vect__ngram_range': ((1, 1), (1, 2))}\n",
            "Fitting 5 folds for each of 72 candidates, totalling 360 fits\n"
          ],
          "name": "stdout"
        },
        {
          "output_type": "stream",
          "text": [
            "[Parallel(n_jobs=-1)]: Using backend LokyBackend with 2 concurrent workers.\n",
            "[Parallel(n_jobs=-1)]: Done  46 tasks      | elapsed:   11.1s\n",
            "[Parallel(n_jobs=-1)]: Done 196 tasks      | elapsed:  2.4min\n",
            "[Parallel(n_jobs=-1)]: Done 360 out of 360 | elapsed:  5.1min finished\n"
          ],
          "name": "stderr"
        },
        {
          "output_type": "stream",
          "text": [
            "done in 312.125s\n",
            "\n",
            "Best CV score: 0.786\n",
            "Best parameters set:\n",
            "\tclf__C: 0.25\n",
            "\tclf__penalty: 'l2'\n",
            "\tfeatures__pipe__vect__max_df: 0.5\n",
            "\tfeatures__pipe__vect__min_df: 1\n",
            "\tfeatures__pipe__vect__ngram_range: (1, 2)\n",
            "Test score with best_estimator_: 0.798\n",
            "\n",
            "\n",
            "Classification Report Test Data\n",
            "              precision    recall  f1-score   support\n",
            "\n",
            "    negative       0.82      0.92      0.87       911\n",
            "     neutral       0.70      0.53      0.60       320\n",
            "    positive       0.79      0.70      0.74       233\n",
            "\n",
            "    accuracy                           0.80      1464\n",
            "   macro avg       0.77      0.72      0.74      1464\n",
            "weighted avg       0.79      0.80      0.79      1464\n",
            "\n"
          ],
          "name": "stdout"
        }
      ]
    },
    {
      "cell_type": "markdown",
      "metadata": {
        "id": "8205LkIu4_BM"
      },
      "source": [
        "**TF - IDF**"
      ]
    },
    {
      "cell_type": "markdown",
      "metadata": {
        "id": "8Bjtpcwe5CA9"
      },
      "source": [
        "One issue with CountVectorizer is that there might be words that occur frequently in observations of the target classes. These words do not have discriminatory information and can be removed. TF-IDF (term frequency - inverse document frequency) can be used to downweight these frequent words."
      ]
    },
    {
      "cell_type": "code",
      "metadata": {
        "id": "RNsFVFzn43lZ"
      },
      "source": [
        "tfidfvect = TfidfVectorizer()"
      ],
      "execution_count": null,
      "outputs": []
    },
    {
      "cell_type": "code",
      "metadata": {
        "colab": {
          "base_uri": "https://localhost:8080/"
        },
        "id": "ESLC07ju43pU",
        "outputId": "4c29a715-93ba-4252-d6ba-3c59c26f16d9"
      },
      "source": [
        "# MultinomialNB\r\n",
        "best_mnb_tfidf = grid_vect(mnb, parameters_mnb, X_train, X_test, parameters_text=parameters_vect, vect=tfidfvect)"
      ],
      "execution_count": null,
      "outputs": [
        {
          "output_type": "stream",
          "text": [
            "Performing grid search...\n",
            "pipeline: ['features', 'clf']\n",
            "parameters:\n",
            "{'clf__alpha': (0.25, 0.5, 0.75),\n",
            " 'features__pipe__vect__max_df': (0.25, 0.5, 0.75),\n",
            " 'features__pipe__vect__min_df': (1, 2),\n",
            " 'features__pipe__vect__ngram_range': ((1, 1), (1, 2))}\n",
            "Fitting 5 folds for each of 36 candidates, totalling 180 fits\n"
          ],
          "name": "stdout"
        },
        {
          "output_type": "stream",
          "text": [
            "[Parallel(n_jobs=-1)]: Using backend LokyBackend with 2 concurrent workers.\n",
            "[Parallel(n_jobs=-1)]: Done  46 tasks      | elapsed:   14.8s\n",
            "[Parallel(n_jobs=-1)]: Done 180 out of 180 | elapsed:   58.3s finished\n"
          ],
          "name": "stderr"
        },
        {
          "output_type": "stream",
          "text": [
            "done in 59.540s\n",
            "\n",
            "Best CV score: 0.748\n",
            "Best parameters set:\n",
            "\tclf__alpha: 0.25\n",
            "\tfeatures__pipe__vect__max_df: 0.25\n",
            "\tfeatures__pipe__vect__min_df: 2\n",
            "\tfeatures__pipe__vect__ngram_range: (1, 2)\n",
            "Test score with best_estimator_: 0.750\n",
            "\n",
            "\n",
            "Classification Report Test Data\n",
            "              precision    recall  f1-score   support\n",
            "\n",
            "    negative       0.74      0.97      0.84       911\n",
            "     neutral       0.76      0.29      0.42       320\n",
            "    positive       0.80      0.50      0.62       233\n",
            "\n",
            "    accuracy                           0.75      1464\n",
            "   macro avg       0.77      0.59      0.63      1464\n",
            "weighted avg       0.76      0.75      0.72      1464\n",
            "\n"
          ],
          "name": "stdout"
        }
      ]
    },
    {
      "cell_type": "code",
      "metadata": {
        "colab": {
          "base_uri": "https://localhost:8080/"
        },
        "id": "f8JanDh_43sr",
        "outputId": "2dc793b0-b652-48e2-b03f-b76d79b0f8ae"
      },
      "source": [
        "# LogisticRegression\r\n",
        "best_logreg_tfidf = grid_vect(logreg, parameters_logreg, X_train, X_test, parameters_text=parameters_vect, vect=tfidfvect)"
      ],
      "execution_count": null,
      "outputs": [
        {
          "output_type": "stream",
          "text": [
            "Performing grid search...\n",
            "pipeline: ['features', 'clf']\n",
            "parameters:\n",
            "{'clf__C': (0.25, 0.5, 1.0),\n",
            " 'clf__penalty': ('l1', 'l2'),\n",
            " 'features__pipe__vect__max_df': (0.25, 0.5, 0.75),\n",
            " 'features__pipe__vect__min_df': (1, 2),\n",
            " 'features__pipe__vect__ngram_range': ((1, 1), (1, 2))}\n",
            "Fitting 5 folds for each of 72 candidates, totalling 360 fits\n"
          ],
          "name": "stdout"
        },
        {
          "output_type": "stream",
          "text": [
            "[Parallel(n_jobs=-1)]: Using backend LokyBackend with 2 concurrent workers.\n",
            "[Parallel(n_jobs=-1)]: Done  46 tasks      | elapsed:   11.6s\n",
            "[Parallel(n_jobs=-1)]: Done 196 tasks      | elapsed:  2.4min\n",
            "[Parallel(n_jobs=-1)]: Done 360 out of 360 | elapsed:  5.2min finished\n"
          ],
          "name": "stderr"
        },
        {
          "output_type": "stream",
          "text": [
            "done in 314.360s\n",
            "\n",
            "Best CV score: 0.758\n",
            "Best parameters set:\n",
            "\tclf__C: 1.0\n",
            "\tclf__penalty: 'l2'\n",
            "\tfeatures__pipe__vect__max_df: 0.25\n",
            "\tfeatures__pipe__vect__min_df: 2\n",
            "\tfeatures__pipe__vect__ngram_range: (1, 1)\n",
            "Test score with best_estimator_: 0.752\n",
            "\n",
            "\n",
            "Classification Report Test Data\n",
            "              precision    recall  f1-score   support\n",
            "\n",
            "    negative       0.77      0.93      0.84       911\n",
            "     neutral       0.69      0.39      0.50       320\n",
            "    positive       0.70      0.56      0.62       233\n",
            "\n",
            "    accuracy                           0.75      1464\n",
            "   macro avg       0.72      0.63      0.65      1464\n",
            "weighted avg       0.74      0.75      0.73      1464\n",
            "\n"
          ],
          "name": "stdout"
        }
      ]
    },
    {
      "cell_type": "markdown",
      "metadata": {
        "id": "iYqRRs-15WUV"
      },
      "source": [
        "**Word2Vec**"
      ]
    },
    {
      "cell_type": "markdown",
      "metadata": {
        "id": "7VpWOovb5aM_"
      },
      "source": [
        "Another way of converting the words in the tweets to numerical values can be achieved with Word2Vec. Word2Vec maps each word in a multi-dimensional space. It does this by taking into account the context in which a word appears in the tweets. As a result, words that are semantically similar are also close to each other in the multi-dimensional space.\r\n",
        "\r\n",
        "\r\n",
        "The Word2Vec algorithm uses lists of words as input. For that purpose we use the word_tokenize method of the the nltk package."
      ]
    },
    {
      "cell_type": "code",
      "metadata": {
        "id": "-769MUlX43vx"
      },
      "source": [
        "SIZE = 25\r\n",
        "\r\n",
        "X_train['clean_text_wordlist'] = X_train.clean_text.apply(lambda x : word_tokenize(x))\r\n",
        "X_test['clean_text_wordlist'] = X_test.clean_text.apply(lambda x : word_tokenize(x))\r\n",
        "\r\n",
        "model = gensim.models.Word2Vec(X_train.clean_text_wordlist\r\n",
        "                 , min_count=1\r\n",
        "                 , size=SIZE\r\n",
        "                 , window=3\r\n",
        "                 , workers=4)"
      ],
      "execution_count": null,
      "outputs": []
    },
    {
      "cell_type": "code",
      "metadata": {
        "colab": {
          "base_uri": "https://localhost:8080/"
        },
        "id": "1StS2YFI43y6",
        "outputId": "dd28ebe6-3064-47e7-cff3-96d612519b6a"
      },
      "source": [
        "model.most_similar('plane', topn=3)"
      ],
      "execution_count": null,
      "outputs": [
        {
          "output_type": "execute_result",
          "data": {
            "text/plain": [
              "[('gate', 0.9991054534912109),\n",
              " ('tarmac', 0.9974715709686279),\n",
              " ('sit', 0.9970719218254089)]"
            ]
          },
          "metadata": {
            "tags": []
          },
          "execution_count": 50
        }
      ]
    },
    {
      "cell_type": "markdown",
      "metadata": {
        "id": "7ZlsReky7ric"
      },
      "source": [
        "The Word2Vec model provides a vocabulary of the words in the corpus together with their vector values. The number of vector values is equal to the chosen size. These are the dimensions on which each word is mapped in the multi-dimensional space.\r\n",
        "\r\n",
        "Words with an occurrence less than **min_count** are not kept in the vocabulary. **NOTE**: A side effect of the **min_count** parameter is that some tweets could have no vector values. This is would be the case when the word(s) in the tweet occur in less than min_count tweets. Due to the small corpus of tweets, there is a risk of this happening in our case. Therefore we set the min_count value equal to 1.\r\n",
        "\r\n",
        "The tweets can have a different number of vectors, depending on the number of words it contains. To use this output for modeling we will aggregate the vectors per tweet to have the same number (i.e. size) of input variables per tweet. Therefore we will take the average of all vectors per tweet. We do this with the function **compute_avg_w2v_vector**. In this function we also check whether the words in the tweet occur in the vocabulary of the word2vec model. If not, a list filled with 0.0 is returned. Else the average of the word vectors.\r\n",
        "\r\n"
      ]
    },
    {
      "cell_type": "code",
      "metadata": {
        "id": "LROt7srZ4316"
      },
      "source": [
        "def compute_avg_w2v_vector(w2v_dict, tweet):\r\n",
        "    list_of_word_vectors = [w2v_dict[w] for w in tweet if w in w2v_dict.vocab.keys()]\r\n",
        "    \r\n",
        "    if len(list_of_word_vectors) == 0:\r\n",
        "        result = [0.0]*SIZE\r\n",
        "    else:\r\n",
        "        result = np.sum(list_of_word_vectors, axis=0) / len(list_of_word_vectors)\r\n",
        "        \r\n",
        "    return result"
      ],
      "execution_count": null,
      "outputs": []
    },
    {
      "cell_type": "code",
      "metadata": {
        "id": "j6qS1FdM434-"
      },
      "source": [
        "X_train_w2v = X_train['clean_text_wordlist'].apply(lambda x: compute_avg_w2v_vector(model.wv, x))\r\n",
        "X_test_w2v = X_test['clean_text_wordlist'].apply(lambda x: compute_avg_w2v_vector(model.wv, x))"
      ],
      "execution_count": null,
      "outputs": []
    },
    {
      "cell_type": "markdown",
      "metadata": {
        "id": "uZIC4W4V8JDZ"
      },
      "source": [
        "This gives us a Series with a vector of dimension equal to SIZE. Now we will split this vector and create a DataFrame with each vector value in a separate column. That way we can concatenate the word2vec variables to the other TextCounts variables. We need to reuse the index of X_train and X_test respectively. Otherwise this will give issues (duplicates) in the concatenation later on."
      ]
    },
    {
      "cell_type": "code",
      "metadata": {
        "id": "bGk8F_943FP8"
      },
      "source": [
        "X_train_w2v = pd.DataFrame(X_train_w2v.values.tolist(), index= X_train.index)\r\n",
        "X_test_w2v = pd.DataFrame(X_test_w2v.values.tolist(), index= X_test.index)\r\n",
        "\r\n",
        "# Concatenate with the TextCounts variables\r\n",
        "X_train_w2v = pd.concat([X_train_w2v, X_train.drop(['clean_text', 'clean_text_wordlist'], axis=1)], axis=1)\r\n",
        "X_test_w2v = pd.concat([X_test_w2v, X_test.drop(['clean_text', 'clean_text_wordlist'], axis=1)], axis=1)"
      ],
      "execution_count": null,
      "outputs": []
    },
    {
      "cell_type": "markdown",
      "metadata": {
        "id": "04bSE97-8RHl"
      },
      "source": [
        "**NOTE:** We only consider LogisticRegression as we have negative values in the Word2Vec vectors. MultinomialNB assumes that the variables have a multinomial distribution which cannot contain negative values."
      ]
    },
    {
      "cell_type": "code",
      "metadata": {
        "id": "ME9YgGkB3FTH",
        "colab": {
          "base_uri": "https://localhost:8080/"
        },
        "outputId": "f8b3ba89-db9b-48a8-a96d-d2c218805bf2"
      },
      "source": [
        "best_logreg_w2v = grid_vect(logreg, parameters_logreg, X_train_w2v, X_test_w2v, is_w2v=True)"
      ],
      "execution_count": null,
      "outputs": [
        {
          "output_type": "stream",
          "text": [
            "Performing grid search...\n",
            "pipeline: ['features', 'clf']\n",
            "parameters:\n",
            "{'clf__C': (0.25, 0.5, 1.0), 'clf__penalty': ('l1', 'l2')}\n",
            "Fitting 5 folds for each of 6 candidates, totalling 30 fits\n"
          ],
          "name": "stdout"
        },
        {
          "output_type": "stream",
          "text": [
            "[Parallel(n_jobs=-1)]: Using backend LokyBackend with 2 concurrent workers.\n",
            "[Parallel(n_jobs=-1)]: Done  30 out of  30 | elapsed:    8.6s finished\n"
          ],
          "name": "stderr"
        },
        {
          "output_type": "stream",
          "text": [
            "done in 9.808s\n",
            "\n",
            "Best CV score: 0.692\n",
            "Best parameters set:\n",
            "\tclf__C: 1.0\n",
            "\tclf__penalty: 'l2'\n",
            "Test score with best_estimator_: 0.685\n",
            "\n",
            "\n",
            "Classification Report Test Data\n",
            "              precision    recall  f1-score   support\n",
            "\n",
            "    negative       0.71      0.94      0.81       911\n",
            "     neutral       0.58      0.24      0.34       320\n",
            "    positive       0.58      0.30      0.39       233\n",
            "\n",
            "    accuracy                           0.69      1464\n",
            "   macro avg       0.62      0.49      0.51      1464\n",
            "weighted avg       0.66      0.69      0.64      1464\n",
            "\n"
          ],
          "name": "stdout"
        }
      ]
    },
    {
      "cell_type": "markdown",
      "metadata": {
        "id": "ZlCHpV3lEhuI"
      },
      "source": [
        "**Conclusion**"
      ]
    },
    {
      "cell_type": "markdown",
      "metadata": {
        "id": "BP2QdH_-Ehzl"
      },
      "source": [
        "\r\n",
        "\r\n",
        "*   Both classifiers achieve the best results when using the features of the CountVectorizer\r\n",
        "\r\n",
        "*   Overall, Logistic Regression outperforms the Multinomial Naive Bayes classifier\r\n",
        "\r\n",
        "*   The best performance on the test set comes from the LogisticRegression with features from CountVectorizer.\r\n",
        "\r\n"
      ]
    },
    {
      "cell_type": "markdown",
      "metadata": {
        "id": "lA43Su_dEh3b"
      },
      "source": [
        "Best parameters :\r\n",
        "\r\n",
        "*   C value of 0.25\r\n",
        "\r\n",
        "*   L2 regularization\r\n",
        "\r\n",
        "*   max_df: 0.5 or maximum document frequency of 50%.\r\n",
        "\r\n",
        "*   min_df: 1 or the words need to appear in at least 2 tweets\r\n",
        "\r\n",
        "*   ngram_range: (1, 2), both single words as bi-grams are used\r\n",
        "\r\n"
      ]
    },
    {
      "cell_type": "markdown",
      "metadata": {
        "id": "JYasmUBOEh7F"
      },
      "source": [
        "Evaluation metrics:\r\n",
        "\r\n",
        "*   A test accuracy of 80%, which is better than what we would achieve by setting the prediction for all observations to the majority class (negative which would give 63% accuracy)\r\n",
        "\r\n",
        "*   The Precision is rather high for all three classes. For instance, of all cases that we predict as negative, 78% is indeed negative.\r\n",
        "\r\n",
        "*   The Recall for the neutral class is low. Of all neutral cases in our test data, we only predict 48% as being neutral.\r\n",
        "\r\n",
        "\r\n"
      ]
    },
    {
      "cell_type": "markdown",
      "metadata": {
        "id": "9a_gySDHRHQu"
      },
      "source": [
        "**EXTRA**"
      ]
    },
    {
      "cell_type": "markdown",
      "metadata": {
        "id": "buuqO1jXEiDr"
      },
      "source": [
        "**Apply the best model on new tweets**"
      ]
    },
    {
      "cell_type": "markdown",
      "metadata": {
        "id": "b9Z8_m-MRGmu"
      },
      "source": [
        "Deu to GridSearchCV, we now know what are the best hyperparameters. So now we can train the best model on all training data, including the test data that we split off before."
      ]
    },
    {
      "cell_type": "code",
      "metadata": {
        "id": "FO9wIWYYQkI-"
      },
      "source": [
        "\r\n",
        "textcountscols = ['count_capital_words','count_emojis','count_excl_quest_marks','count_hashtags'\r\n",
        "                      ,'count_mentions','count_urls','count_words']\r\n",
        "    \r\n",
        "features = FeatureUnion([('textcounts', ColumnExtractor(cols=textcountscols))\r\n",
        "                         , ('pipe', Pipeline([('cleantext', ColumnExtractor(cols='clean_text'))\r\n",
        "                                              , ('vect', CountVectorizer(max_df=0.5, min_df=1, ngram_range=(1,2)))]))]\r\n",
        "                       , n_jobs=-1)\r\n",
        "\r\n",
        "pipeline = Pipeline([\r\n",
        "    ('features', features)\r\n",
        "    , ('clf', LogisticRegression(C=1.0, penalty='l2'))\r\n",
        "])\r\n",
        "\r\n",
        "best_model = pipeline.fit(df_model.drop('airline_sentiment', axis=1), df_model.airline_sentiment)"
      ],
      "execution_count": null,
      "outputs": []
    },
    {
      "cell_type": "markdown",
      "metadata": {
        "id": "IRuTf8UxROuO"
      },
      "source": [
        "New Positive Tweets"
      ]
    },
    {
      "cell_type": "code",
      "metadata": {
        "colab": {
          "base_uri": "https://localhost:8080/"
        },
        "id": "EYGRFTVRQkMr",
        "outputId": "de7c0cdd-dcd3-4655-8927-faefa71f6a37"
      },
      "source": [
        "new_positive_tweets = pd.Series([\"Thank you @VirginAmerica for you amazing customer support team on Tuesday 11/28 at @EWRairport and returning my lost bag in less than 24h! #efficiencyiskey #virginamerica\"\r\n",
        "                      ,\"Love flying with you guys ask these years.  Sad that this will be the last trip 😂   @VirginAmerica  #LuxuryTravel\"\r\n",
        "                      ,\"Wow @VirginAmerica main cabin select is the way to fly!! This plane is nice and clean & I have tons of legroom! Wahoo! NYC bound! ✈️\"])\r\n",
        "\r\n",
        "df_counts_pos = tc.transform(new_positive_tweets)\r\n",
        "df_clean_pos = ct.transform(new_positive_tweets)\r\n",
        "df_model_pos = df_counts_pos\r\n",
        "df_model_pos['clean_text'] = df_clean_pos\r\n",
        "\r\n",
        "best_model.predict(df_model_pos).tolist()"
      ],
      "execution_count": null,
      "outputs": [
        {
          "output_type": "execute_result",
          "data": {
            "text/plain": [
              "['positive', 'positive', 'positive']"
            ]
          },
          "metadata": {
            "tags": []
          },
          "execution_count": 83
        }
      ]
    },
    {
      "cell_type": "markdown",
      "metadata": {
        "id": "kCPBWEpTRXWB"
      },
      "source": [
        "New Negative Tweets"
      ]
    },
    {
      "cell_type": "code",
      "metadata": {
        "colab": {
          "base_uri": "https://localhost:8080/"
        },
        "id": "aFdh9BUSQkP4",
        "outputId": "3e2075c6-64dc-4f86-990d-9929ee82b4a4"
      },
      "source": [
        "new_negative_tweets = pd.Series([\"@VirginAmerica shocked my initially with the service, but then went on to shock me further with no response to what my complaint was. #unacceptable @Delta @richardbranson\"\r\n",
        "                      ,\"@VirginAmerica this morning I was forced to repack a suitcase w a medical device because it was barely overweight - wasn't even given an option to pay extra. My spouses suitcase then burst at the seam with the added device and had to be taped shut. Awful experience so far!\"\r\n",
        "                      ,\"Board airplane home. Computer issue. Get off plane, traverse airport to gate on opp side. Get on new plane hour later. Plane too heavy. 8 volunteers get off plane. Ohhh the adventure of travel ✈️ @VirginAmerica\"])\r\n",
        "\r\n",
        "df_counts_neg = tc.transform(new_negative_tweets)\r\n",
        "df_clean_neg = ct.transform(new_negative_tweets)\r\n",
        "df_model_neg = df_counts_neg\r\n",
        "df_model_neg['clean_text'] = df_clean_neg\r\n",
        "\r\n",
        "best_model.predict(df_model_neg).tolist()"
      ],
      "execution_count": null,
      "outputs": [
        {
          "output_type": "execute_result",
          "data": {
            "text/plain": [
              "['negative', 'negative', 'negative']"
            ]
          },
          "metadata": {
            "tags": []
          },
          "execution_count": 84
        }
      ]
    },
    {
      "cell_type": "markdown",
      "metadata": {
        "id": "jal_keAwRW4F"
      },
      "source": [
        "Great! The model classifies all of the tweets correctly. Obviously, a much larger test set should be used to correctly assess the model's performance."
      ]
    }
  ]
}